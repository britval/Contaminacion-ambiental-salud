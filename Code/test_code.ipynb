{
 "cells": [
  {
   "cell_type": "code",
   "execution_count": 1,
   "id": "3733a84a-e243-4c51-a10a-610aa4b2ccdd",
   "metadata": {},
   "outputs": [],
   "source": [
    "import netCDF4 as net\n",
    "import numpy as np"
   ]
  },
  {
   "cell_type": "code",
   "execution_count": 3,
   "id": "971163b9-6e7f-43be-841a-6163600c8e3e",
   "metadata": {},
   "outputs": [
    {
     "name": "stdout",
     "output_type": "stream",
     "text": [
      "<class 'netCDF4._netCDF4.Dataset'>\n",
      "root group (NETCDF4 data model, file format HDF5):\n",
      "    History: Original file generated: Wed Mar  6 20:25:00 2024 GMT\n",
      "    Comment: GMAO filename: d5124_m2_jan10.tavg1_2d_aer_Nx.20240225.nc4\n",
      "    Filename: MERRA2_400.tavg1_2d_aer_Nx.20240225.nc4\n",
      "    Conventions: CF-1\n",
      "    Institution: NASA Global Modeling and Assimilation Office\n",
      "    References: http://gmao.gsfc.nasa.gov\n",
      "    Format: NetCDF-4/HDF-5\n",
      "    SpatialCoverage: global\n",
      "    VersionID: 5.12.4\n",
      "    TemporalRange: 1980-01-01 -> 2016-12-31\n",
      "    identifier_product_doi_authority: http://dx.doi.org/\n",
      "    ShortName: M2T1NXAER\n",
      "    GranuleID: MERRA2_400.tavg1_2d_aer_Nx.20240225.nc4\n",
      "    ProductionDateTime: Original file generated: Wed Mar  6 20:25:00 2024 GMT\n",
      "    LongName: MERRA2 tavg1_2d_aer_Nx: 2d,1-Hourly,Time-averaged,Single-Level,Assimilation,Aerosol Diagnostics\n",
      "    Title: MERRA2 tavg1_2d_aer_Nx: 2d,1-Hourly,Time-averaged,Single-Level,Assimilation,Aerosol Diagnostics\n",
      "    SouthernmostLatitude: -90.0\n",
      "    NorthernmostLatitude: 90.0\n",
      "    WesternmostLongitude: -180.0\n",
      "    EasternmostLongitude: 179.375\n",
      "    LatitudeResolution: 0.5\n",
      "    LongitudeResolution: 0.625\n",
      "    DataResolution: 0.5 x 0.625\n",
      "    Source: CVS tag: GEOSadas-5_12_4_p38_SLES12_M2-OPS\n",
      "    Contact: http://gmao.gsfc.nasa.gov\n",
      "    identifier_product_doi: 10.5067/KLICLTZ8EM9D\n",
      "    RangeBeginningDate: 2024-02-25\n",
      "    RangeBeginningTime: 00:00:00.000000\n",
      "    RangeEndingDate: 2024-02-25\n",
      "    RangeEndingTime: 23:59:59.000000\n",
      "    dimensions(sizes): lon(576), lat(361), time(24)\n",
      "    variables(dimensions): float64 lon(lon), float64 lat(lat), int32 time(time), float32 BCANGSTR(time, lat, lon), float32 BCCMASS(time, lat, lon), float32 BCEXTTAU(time, lat, lon), float32 BCFLUXU(time, lat, lon), float32 BCFLUXV(time, lat, lon), float32 BCSCATAU(time, lat, lon), float32 BCSMASS(time, lat, lon), float32 DMSCMASS(time, lat, lon), float32 DMSSMASS(time, lat, lon), float32 DUANGSTR(time, lat, lon), float32 DUCMASS(time, lat, lon), float32 DUCMASS25(time, lat, lon), float32 DUEXTT25(time, lat, lon), float32 DUEXTTAU(time, lat, lon), float32 DUFLUXU(time, lat, lon), float32 DUFLUXV(time, lat, lon), float32 DUSCAT25(time, lat, lon), float32 DUSCATAU(time, lat, lon), float32 DUSMASS(time, lat, lon), float32 DUSMASS25(time, lat, lon), float32 OCANGSTR(time, lat, lon), float32 OCCMASS(time, lat, lon), float32 OCEXTTAU(time, lat, lon), float32 OCFLUXU(time, lat, lon), float32 OCFLUXV(time, lat, lon), float32 OCSCATAU(time, lat, lon), float32 OCSMASS(time, lat, lon), float32 SO2CMASS(time, lat, lon), float32 SO2SMASS(time, lat, lon), float32 SO4CMASS(time, lat, lon), float32 SO4SMASS(time, lat, lon), float32 SSANGSTR(time, lat, lon), float32 SSCMASS(time, lat, lon), float32 SSCMASS25(time, lat, lon), float32 SSEXTT25(time, lat, lon), float32 SSEXTTAU(time, lat, lon), float32 SSFLUXU(time, lat, lon), float32 SSFLUXV(time, lat, lon), float32 SSSCAT25(time, lat, lon), float32 SSSCATAU(time, lat, lon), float32 SSSMASS(time, lat, lon), float32 SSSMASS25(time, lat, lon), float32 SUANGSTR(time, lat, lon), float32 SUEXTTAU(time, lat, lon), float32 SUFLUXU(time, lat, lon), float32 SUFLUXV(time, lat, lon), float32 SUSCATAU(time, lat, lon), float32 TOTANGSTR(time, lat, lon), float32 TOTEXTTAU(time, lat, lon), float32 TOTSCATAU(time, lat, lon)\n",
      "    groups: \n"
     ]
    }
   ],
   "source": [
    "# open de NET Dataset Object\n",
    "\n",
    "file = net.Dataset('/Users/maxiaguest/Downloads/MERRA2_400.tavg1_2d_aer_Nx.20240225.nc4')\n",
    "print(file)"
   ]
  },
  {
   "cell_type": "code",
   "execution_count": 4,
   "id": "1041ee6b-6643-4227-99e7-5364bc669c4c",
   "metadata": {},
   "outputs": [
    {
     "name": "stdout",
     "output_type": "stream",
     "text": [
      "dict_keys(['lon', 'lat', 'time', 'BCANGSTR', 'BCCMASS', 'BCEXTTAU', 'BCFLUXU', 'BCFLUXV', 'BCSCATAU', 'BCSMASS', 'DMSCMASS', 'DMSSMASS', 'DUANGSTR', 'DUCMASS', 'DUCMASS25', 'DUEXTT25', 'DUEXTTAU', 'DUFLUXU', 'DUFLUXV', 'DUSCAT25', 'DUSCATAU', 'DUSMASS', 'DUSMASS25', 'OCANGSTR', 'OCCMASS', 'OCEXTTAU', 'OCFLUXU', 'OCFLUXV', 'OCSCATAU', 'OCSMASS', 'SO2CMASS', 'SO2SMASS', 'SO4CMASS', 'SO4SMASS', 'SSANGSTR', 'SSCMASS', 'SSCMASS25', 'SSEXTT25', 'SSEXTTAU', 'SSFLUXU', 'SSFLUXV', 'SSSCAT25', 'SSSCATAU', 'SSSMASS', 'SSSMASS25', 'SUANGSTR', 'SUEXTTAU', 'SUFLUXU', 'SUFLUXV', 'SUSCATAU', 'TOTANGSTR', 'TOTEXTTAU', 'TOTSCATAU'])\n"
     ]
    }
   ],
   "source": [
    "# Access to the information from this object\n",
    "# Get the variablee names\n",
    "\n",
    "print(file.variables.keys())"
   ]
  },
  {
   "cell_type": "code",
   "execution_count": 6,
   "id": "263011af-7b31-411f-983f-944296ff584c",
   "metadata": {},
   "outputs": [
    {
     "name": "stdout",
     "output_type": "stream",
     "text": [
      "<class 'netCDF4._netCDF4.Variable'>\n",
      "float64 lon(lon)\n",
      "    long_name: longitude\n",
      "    units: degrees_east\n",
      "    vmax: 1000000000000000.0\n",
      "    vmin: -1000000000000000.0\n",
      "    valid_range: [-1.e+15  1.e+15]\n",
      "unlimited dimensions: \n",
      "current shape = (576,)\n",
      "filling on, default _FillValue of 9.969209968386869e+36 used\n",
      "\n",
      "\n",
      "\n",
      "<class 'netCDF4._netCDF4.Variable'>\n",
      "float64 lat(lat)\n",
      "    long_name: latitude\n",
      "    units: degrees_north\n",
      "    vmax: 1000000000000000.0\n",
      "    vmin: -1000000000000000.0\n",
      "    valid_range: [-1.e+15  1.e+15]\n",
      "unlimited dimensions: \n",
      "current shape = (361,)\n",
      "filling on, default _FillValue of 9.969209968386869e+36 used\n"
     ]
    }
   ],
   "source": [
    "# Individually access to each variable\n",
    "\n",
    "longitud = file.variables['lon'] \n",
    "latitude = file.variables['lat'] \n",
    "print(longitud)\n",
    "print(\"\\n\" * 2)\n",
    "print(latitude)"
   ]
  },
  {
   "cell_type": "code",
   "execution_count": 7,
   "id": "b765b0ab-7984-4639-9e96-fb0080760187",
   "metadata": {},
   "outputs": [
    {
     "name": "stdout",
     "output_type": "stream",
     "text": [
      "('lon', <class 'netCDF4._netCDF4.Dimension'>: name = 'lon', size = 576)\n",
      "('lat', <class 'netCDF4._netCDF4.Dimension'>: name = 'lat', size = 361)\n",
      "('time', <class 'netCDF4._netCDF4.Dimension'> (unlimited): name = 'time', size = 24)\n"
     ]
    }
   ],
   "source": [
    "for d in file.dimensions.items():\n",
    "    print(d)"
   ]
  },
  {
   "cell_type": "code",
   "execution_count": 13,
   "id": "1ab67fe1-2596-41ce-be8c-5ea6ce8b99f9",
   "metadata": {},
   "outputs": [
    {
     "data": {
      "text/plain": [
       "('lon',)"
      ]
     },
     "execution_count": 13,
     "metadata": {},
     "output_type": "execute_result"
    }
   ],
   "source": [
    "longitud.dimensions"
   ]
  },
  {
   "cell_type": "code",
   "execution_count": 14,
   "id": "a32a8fae-6b8e-4986-86df-3a5e5b4530f6",
   "metadata": {},
   "outputs": [
    {
     "data": {
      "text/plain": [
       "(576,)"
      ]
     },
     "execution_count": 14,
     "metadata": {},
     "output_type": "execute_result"
    }
   ],
   "source": [
    "longitud.shape"
   ]
  },
  {
   "cell_type": "code",
   "execution_count": 17,
   "id": "f732afc4-5df9-4719-a5d9-2a2c49136aa3",
   "metadata": {},
   "outputs": [
    {
     "name": "stdout",
     "output_type": "stream",
     "text": [
      "<class 'netCDF4._netCDF4.Variable'>\n",
      "float32 BCANGSTR(time, lat, lon)\n",
      "    long_name: Black Carbon Angstrom parameter [470-870 nm]\n",
      "    units: 1\n",
      "    _FillValue: 1000000000000000.0\n",
      "    missing_value: 1000000000000000.0\n",
      "    fmissing_value: 1000000000000000.0\n",
      "    scale_factor: 1.0\n",
      "    add_offset: 0.0\n",
      "    standard_name: Black Carbon Angstrom parameter [470-870 nm]\n",
      "    vmax: 1000000000000000.0\n",
      "    vmin: -1000000000000000.0\n",
      "    valid_range: [-1.e+15  1.e+15]\n",
      "unlimited dimensions: time\n",
      "current shape = (24, 361, 576)\n",
      "filling on\n"
     ]
    }
   ],
   "source": [
    "var = file.variables['BCANGSTR']\n",
    "print(var)"
   ]
  },
  {
   "cell_type": "code",
   "execution_count": null,
   "id": "bc3ce608-4305-4f46-9351-499df0a2eca4",
   "metadata": {
    "editable": true,
    "slideshow": {
     "slide_type": ""
    },
    "tags": []
   },
   "outputs": [],
   "source": []
  }
 ],
 "metadata": {
  "kernelspec": {
   "display_name": "Python 3 (ipykernel)",
   "language": "python",
   "name": "python3"
  },
  "language_info": {
   "codemirror_mode": {
    "name": "ipython",
    "version": 3
   },
   "file_extension": ".py",
   "mimetype": "text/x-python",
   "name": "python",
   "nbconvert_exporter": "python",
   "pygments_lexer": "ipython3",
   "version": "3.9.7"
  }
 },
 "nbformat": 4,
 "nbformat_minor": 5
}
